{
 "cells": [
  {
   "cell_type": "code",
   "execution_count": 1,
   "metadata": {},
   "outputs": [],
   "source": [
    "import numpy as np\n",
    "import pandas as pd\n",
    "from sklearn.linear_model import LogisticRegression\n",
    "import xgboost as xgb\n",
    "from xgboost import XGBClassifier\n",
    "from sklearn.feature_extraction.text import TfidfVectorizer\n",
    "from sklearn.ensemble import VotingClassifier\n",
    "from sklearn.linear_model import SGDClassifier\n",
    "from sklearn.neighbors import KNeighborsClassifier\n",
    "import language_tool_python\n",
    "##  StratifiedKFold、cross_val_scoreをインポート\n",
    "from sklearn.model_selection import StratifiedKFold\n",
    "from sklearn.model_selection import cross_val_score\n"
   ]
  },
  {
   "cell_type": "code",
   "execution_count": 2,
   "metadata": {},
   "outputs": [
    {
     "data": {
      "text/html": [
       "<div>\n",
       "<style scoped>\n",
       "    .dataframe tbody tr th:only-of-type {\n",
       "        vertical-align: middle;\n",
       "    }\n",
       "\n",
       "    .dataframe tbody tr th {\n",
       "        vertical-align: top;\n",
       "    }\n",
       "\n",
       "    .dataframe thead th {\n",
       "        text-align: right;\n",
       "    }\n",
       "</style>\n",
       "<table border=\"1\" class=\"dataframe\">\n",
       "  <thead>\n",
       "    <tr style=\"text-align: right;\">\n",
       "      <th></th>\n",
       "      <th>text</th>\n",
       "      <th>label</th>\n",
       "      <th>prompt_name</th>\n",
       "      <th>source</th>\n",
       "      <th>RDizzl3_seven</th>\n",
       "      <th>id</th>\n",
       "      <th>prompt_id</th>\n",
       "    </tr>\n",
       "  </thead>\n",
       "  <tbody>\n",
       "    <tr>\n",
       "      <th>41656</th>\n",
       "      <td>The author effectively supports the idea that...</td>\n",
       "      <td>1</td>\n",
       "      <td>Exploring Venus</td>\n",
       "      <td>cohere-command</td>\n",
       "      <td>True</td>\n",
       "      <td>NaN</td>\n",
       "      <td>NaN</td>\n",
       "    </tr>\n",
       "    <tr>\n",
       "      <th>24773</th>\n",
       "      <td>When you are seeking for advice, why do you of...</td>\n",
       "      <td>0</td>\n",
       "      <td>Seeking multiple opinions</td>\n",
       "      <td>persuade_corpus</td>\n",
       "      <td>False</td>\n",
       "      <td>NaN</td>\n",
       "      <td>NaN</td>\n",
       "    </tr>\n",
       "    <tr>\n",
       "      <th>33686</th>\n",
       "      <td>The pursuit of progress and the constant purs...</td>\n",
       "      <td>1</td>\n",
       "      <td>Summer projects</td>\n",
       "      <td>mistral7binstruct_v2</td>\n",
       "      <td>False</td>\n",
       "      <td>NaN</td>\n",
       "      <td>NaN</td>\n",
       "    </tr>\n",
       "    <tr>\n",
       "      <th>11472</th>\n",
       "      <td>I do think this could be helpful in many ways,...</td>\n",
       "      <td>0</td>\n",
       "      <td>Facial action coding system</td>\n",
       "      <td>persuade_corpus</td>\n",
       "      <td>True</td>\n",
       "      <td>NaN</td>\n",
       "      <td>NaN</td>\n",
       "    </tr>\n",
       "    <tr>\n",
       "      <th>9731</th>\n",
       "      <td>\"The Challenge of exploring venus\" it talks ab...</td>\n",
       "      <td>0</td>\n",
       "      <td>Exploring Venus</td>\n",
       "      <td>persuade_corpus</td>\n",
       "      <td>True</td>\n",
       "      <td>NaN</td>\n",
       "      <td>NaN</td>\n",
       "    </tr>\n",
       "    <tr>\n",
       "      <th>...</th>\n",
       "      <td>...</td>\n",
       "      <td>...</td>\n",
       "      <td>...</td>\n",
       "      <td>...</td>\n",
       "      <td>...</td>\n",
       "      <td>...</td>\n",
       "      <td>...</td>\n",
       "    </tr>\n",
       "    <tr>\n",
       "      <th>18818</th>\n",
       "      <td>Dear State Senator,\\n\\nAfter much research, I ...</td>\n",
       "      <td>0</td>\n",
       "      <td>Does the electoral college work?</td>\n",
       "      <td>persuade_corpus</td>\n",
       "      <td>True</td>\n",
       "      <td>NaN</td>\n",
       "      <td>NaN</td>\n",
       "    </tr>\n",
       "    <tr>\n",
       "      <th>22111</th>\n",
       "      <td>Dear Principal\\n\\nYou should take Policy 1 bec...</td>\n",
       "      <td>0</td>\n",
       "      <td>Cell phones at school</td>\n",
       "      <td>persuade_corpus</td>\n",
       "      <td>False</td>\n",
       "      <td>NaN</td>\n",
       "      <td>NaN</td>\n",
       "    </tr>\n",
       "    <tr>\n",
       "      <th>685</th>\n",
       "      <td>Phones and Driving\\n\\nEveryday people die beca...</td>\n",
       "      <td>0</td>\n",
       "      <td>Phones and driving</td>\n",
       "      <td>persuade_corpus</td>\n",
       "      <td>False</td>\n",
       "      <td>NaN</td>\n",
       "      <td>NaN</td>\n",
       "    </tr>\n",
       "    <tr>\n",
       "      <th>13810</th>\n",
       "      <td>Dear Principal,\\n\\nThere has been a lot of con...</td>\n",
       "      <td>0</td>\n",
       "      <td>Community service</td>\n",
       "      <td>persuade_corpus</td>\n",
       "      <td>False</td>\n",
       "      <td>NaN</td>\n",
       "      <td>NaN</td>\n",
       "    </tr>\n",
       "    <tr>\n",
       "      <th>32046</th>\n",
       "      <td>Distance learning has become increasingly popu...</td>\n",
       "      <td>1</td>\n",
       "      <td>Distance learning</td>\n",
       "      <td>chat_gpt_moth</td>\n",
       "      <td>False</td>\n",
       "      <td>NaN</td>\n",
       "      <td>NaN</td>\n",
       "    </tr>\n",
       "  </tbody>\n",
       "</table>\n",
       "<p>44868 rows × 7 columns</p>\n",
       "</div>"
      ],
      "text/plain": [
       "                                                    text  label  \\\n",
       "41656   The author effectively supports the idea that...      1   \n",
       "24773  When you are seeking for advice, why do you of...      0   \n",
       "33686   The pursuit of progress and the constant purs...      1   \n",
       "11472  I do think this could be helpful in many ways,...      0   \n",
       "9731   \"The Challenge of exploring venus\" it talks ab...      0   \n",
       "...                                                  ...    ...   \n",
       "18818  Dear State Senator,\\n\\nAfter much research, I ...      0   \n",
       "22111  Dear Principal\\n\\nYou should take Policy 1 bec...      0   \n",
       "685    Phones and Driving\\n\\nEveryday people die beca...      0   \n",
       "13810  Dear Principal,\\n\\nThere has been a lot of con...      0   \n",
       "32046  Distance learning has become increasingly popu...      1   \n",
       "\n",
       "                            prompt_name                source RDizzl3_seven  \\\n",
       "41656                   Exploring Venus        cohere-command          True   \n",
       "24773         Seeking multiple opinions       persuade_corpus         False   \n",
       "33686                   Summer projects  mistral7binstruct_v2         False   \n",
       "11472       Facial action coding system       persuade_corpus          True   \n",
       "9731                    Exploring Venus       persuade_corpus          True   \n",
       "...                                 ...                   ...           ...   \n",
       "18818  Does the electoral college work?       persuade_corpus          True   \n",
       "22111             Cell phones at school       persuade_corpus         False   \n",
       "685                  Phones and driving       persuade_corpus         False   \n",
       "13810                 Community service       persuade_corpus         False   \n",
       "32046                 Distance learning         chat_gpt_moth         False   \n",
       "\n",
       "        id  prompt_id  \n",
       "41656  NaN        NaN  \n",
       "24773  NaN        NaN  \n",
       "33686  NaN        NaN  \n",
       "11472  NaN        NaN  \n",
       "9731   NaN        NaN  \n",
       "...    ...        ...  \n",
       "18818  NaN        NaN  \n",
       "22111  NaN        NaN  \n",
       "685    NaN        NaN  \n",
       "13810  NaN        NaN  \n",
       "32046  NaN        NaN  \n",
       "\n",
       "[44868 rows x 7 columns]"
      ]
     },
     "execution_count": 2,
     "metadata": {},
     "output_type": "execute_result"
    }
   ],
   "source": [
    "test = pd.read_csv('../input/test_essays.csv')\n",
    "sub = pd.read_csv('../input/sample_submission.csv')\n",
    "external_train = pd.read_csv(\"../input/train_essays.csv\")\n",
    "external_train.rename(columns={\"generated\": \"label\"}, inplace=True)\n",
    "\n",
    "train = pd.read_csv(\"../input/train_v2_drcat_02.csv\")\n",
    "train = pd.concat([train, external_train])\n",
    "\n",
    "train = train.drop_duplicates(subset=[\"text\"])\n",
    "\n",
    "train.reset_index(drop=True).sample(frac=1)\n",
    "\n",
    "\n"
   ]
  },
  {
   "cell_type": "code",
   "execution_count": 3,
   "metadata": {},
   "outputs": [
    {
     "name": "stderr",
     "output_type": "stream",
     "text": [
      "[nltk_data] Downloading package stopwords to\n",
      "[nltk_data]     /Users/matsuisouta/nltk_data...\n",
      "[nltk_data]   Package stopwords is already up-to-date!\n",
      "[nltk_data] Downloading package punkt to\n",
      "[nltk_data]     /Users/matsuisouta/nltk_data...\n",
      "[nltk_data]   Package punkt is already up-to-date!\n"
     ]
    },
    {
     "data": {
      "text/plain": [
       "True"
      ]
     },
     "execution_count": 3,
     "metadata": {},
     "output_type": "execute_result"
    }
   ],
   "source": [
    "import nltk\n",
    "nltk.download('stopwords')\n",
    "nltk.download('punkt')\n"
   ]
  },
  {
   "cell_type": "code",
   "execution_count": 15,
   "metadata": {},
   "outputs": [],
   "source": [
    "from sklearn.feature_extraction.text import TfidfVectorizer\n",
    "from nltk.tokenize import word_tokenize\n",
    "from nltk.corpus import stopwords\n",
    "import re\n",
    "\n",
    "# ストップワードのロード\n",
    "stop_words = set(stopwords.words('english'))\n",
    "\n",
    "def clean_text(text):\n",
    "    # HTMLタグの削除\n",
    "    text = re.sub(r'<.*?>', '', text)\n",
    "    # 句読点、数字、特殊記号の削除\n",
    "    text = re.sub(r'[^\\w\\s]', '', text)\n",
    "    # 小文字化\n",
    "    text = text.lower()\n",
    "    return text\n",
    "\n",
    "# カスタムトークナイザー\n",
    "def tokenize(text):\n",
    "    tokens = word_tokenize(text)\n",
    "    return [word for word in tokens if word not in stop_words]\n",
    "\n",
    "def calculate_length(data):\n",
    "    # pandas.Seriesの各要素に対して長さを計算\n",
    "    return [[len(text.split())] for text in data]\n",
    "\n",
    "\n",
    "# テキストデータのクリーニング\n",
    "train['clean_text'] = train['text'].apply(clean_text)\n",
    "test['clean_text'] = test['text'].apply(clean_text)"
   ]
  },
  {
   "cell_type": "code",
   "execution_count": 16,
   "metadata": {},
   "outputs": [
    {
     "name": "stdout",
     "output_type": "stream",
     "text": [
      "Index(['text', 'label', 'prompt_name', 'source', 'RDizzl3_seven', 'id',\n",
      "       'prompt_id', 'clean_text', 'text_length'],\n",
      "      dtype='object')\n",
      "Index(['id', 'prompt_id', 'text', 'clean_text', 'text_length'], dtype='object')\n"
     ]
    }
   ],
   "source": [
    "print(train.columns)\n",
    "print(test.columns)\n"
   ]
  },
  {
   "cell_type": "code",
   "execution_count": 20,
   "metadata": {},
   "outputs": [
    {
     "name": "stderr",
     "output_type": "stream",
     "text": [
      "/Users/matsuisouta/kaggle/.venv/lib/python3.11/site-packages/sklearn/feature_extraction/text.py:525: UserWarning: The parameter 'token_pattern' will not be used since 'tokenizer' is not None'\n",
      "  warnings.warn(\n"
     ]
    }
   ],
   "source": [
    "# 特徴量を組み合わせるためのTransformer\n",
    "from sklearn.compose import ColumnTransformer\n",
    "from sklearn.preprocessing import FunctionTransformer\n",
    "from sklearn.pipeline import Pipeline\n",
    "from sklearn.preprocessing import StandardScaler\n",
    "\n",
    "\n",
    "# 数値特徴量用のスケーラー\n",
    "scaler = StandardScaler()\n",
    "\n",
    "# TF-IDFベクトル化器を作成\n",
    "tfidf = TfidfVectorizer(\n",
    "    ngram_range=(3, 5),\n",
    "    tokenizer=tokenize,\n",
    "    strip_accents=\"unicode\"\n",
    "    max_features=10000\n",
    ")\n",
    "\n",
    "# 文の長さの特徴量変換器\n",
    "length_transformer = Pipeline([\n",
    "    ('length', FunctionTransformer(calculate_length, validate=False)),\n",
    "    ('scale', StandardScaler())\n",
    "])\n",
    "\n",
    "# ColumnTransformerの設定\n",
    "preprocessor = ColumnTransformer(\n",
    "    transformers=[\n",
    "        ('tfidf', tfidf, 'clean_text'),  # 'clean_text' 列に TF-IDF ベクトル化を適用\n",
    "        ('length', length_transformer, 'text')  # 'text' 列に文の長さ計算を適用\n",
    "    ]\n",
    ")\n",
    "\n",
    "# 特徴量変換の実行\n",
    "train_x = preprocessor.fit_transform(train)\n",
    "test_x = preprocessor.transform(test)"
   ]
  },
  {
   "cell_type": "code",
   "execution_count": 21,
   "metadata": {},
   "outputs": [
    {
     "name": "stdout",
     "output_type": "stream",
     "text": [
      "(44868, 19803183)\n",
      "(3, 19803183)\n"
     ]
    }
   ],
   "source": [
    "print(train_x.shape)\n",
    "print(test_x.shape)"
   ]
  },
  {
   "cell_type": "code",
   "execution_count": null,
   "metadata": {},
   "outputs": [],
   "source": [
    "from sklearn.pipeline import Pipeline\n",
    "from sklearn.linear_model import LogisticRegression, SGDClassifier\n",
    "from sklearn.ensemble import VotingClassifier\n",
    "from sklearn.naive_bayes import MultinomialNB\n",
    "\n",
    "lr = LogisticRegression()\n",
    "clf = MultinomialNB(alpha=0.02)\n",
    "sgd_model = SGDClassifier(max_iter=5000, tol=1e-3, loss=\"modified_huber\")   \n",
    "sgd_model2 = SGDClassifier(max_iter=8000, tol=1e-4, loss=\"modified_huber\", class_weight=\"balanced\") \n",
    "sgd_model3 = SGDClassifier(max_iter=10000, tol=5e-4, loss=\"modified_huber\", early_stopping=True)\n",
    "\n",
    "ensemble = VotingClassifier(\n",
    "    estimators=[\n",
    "        (\"lr\", lr),\n",
    "        (\"mnb\", clf),\n",
    "        (\"sgd\", sgd_model),\n",
    "        (\"sgd2\", sgd_model2),\n",
    "        (\"sgd3\", sgd_model3),\n",
    "    ],\n",
    "    voting=\"soft\",\n",
    ")\n",
    "\n"
   ]
  },
  {
   "cell_type": "code",
   "execution_count": null,
   "metadata": {},
   "outputs": [
    {
     "name": "stdout",
     "output_type": "stream",
     "text": [
      "AUC: 0.998313252772911\n"
     ]
    }
   ],
   "source": [
    "from sklearn.model_selection import train_test_split\n",
    "from sklearn.metrics import roc_auc_score\n",
    "\n",
    "# データをトレーニングセットとテストセットに分割\n",
    "train_data, test_data, train_labels, test_labels = train_test_split(train['clean_text'], train.label, test_size=0.2, random_state=42)\n",
    "\n",
    "## tfidfをfit\n",
    "train_data = tfidf.fit_transform(train_data)\n",
    "test_data = tfidf.transform(test_data)\n",
    "\n",
    "\n",
    "# モデルをトレーニング\n",
    "ensemble.fit(train_data, train_labels)\n",
    "\n",
    "# テストセットでモデルを評価\n",
    "predicted_probs = ensemble.predict_proba(test_data)[:, 1]\n",
    "\n",
    "# AUCを計算\n",
    "auc = roc_auc_score(test_labels, predicted_probs )\n",
    "print(f'AUC: {auc}')\n"
   ]
  },
  {
   "cell_type": "code",
   "execution_count": null,
   "metadata": {},
   "outputs": [
    {
     "data": {
      "text/html": [
       "<style>#sk-container-id-1 {color: black;}#sk-container-id-1 pre{padding: 0;}#sk-container-id-1 div.sk-toggleable {background-color: white;}#sk-container-id-1 label.sk-toggleable__label {cursor: pointer;display: block;width: 100%;margin-bottom: 0;padding: 0.3em;box-sizing: border-box;text-align: center;}#sk-container-id-1 label.sk-toggleable__label-arrow:before {content: \"▸\";float: left;margin-right: 0.25em;color: #696969;}#sk-container-id-1 label.sk-toggleable__label-arrow:hover:before {color: black;}#sk-container-id-1 div.sk-estimator:hover label.sk-toggleable__label-arrow:before {color: black;}#sk-container-id-1 div.sk-toggleable__content {max-height: 0;max-width: 0;overflow: hidden;text-align: left;background-color: #f0f8ff;}#sk-container-id-1 div.sk-toggleable__content pre {margin: 0.2em;color: black;border-radius: 0.25em;background-color: #f0f8ff;}#sk-container-id-1 input.sk-toggleable__control:checked~div.sk-toggleable__content {max-height: 200px;max-width: 100%;overflow: auto;}#sk-container-id-1 input.sk-toggleable__control:checked~label.sk-toggleable__label-arrow:before {content: \"▾\";}#sk-container-id-1 div.sk-estimator input.sk-toggleable__control:checked~label.sk-toggleable__label {background-color: #d4ebff;}#sk-container-id-1 div.sk-label input.sk-toggleable__control:checked~label.sk-toggleable__label {background-color: #d4ebff;}#sk-container-id-1 input.sk-hidden--visually {border: 0;clip: rect(1px 1px 1px 1px);clip: rect(1px, 1px, 1px, 1px);height: 1px;margin: -1px;overflow: hidden;padding: 0;position: absolute;width: 1px;}#sk-container-id-1 div.sk-estimator {font-family: monospace;background-color: #f0f8ff;border: 1px dotted black;border-radius: 0.25em;box-sizing: border-box;margin-bottom: 0.5em;}#sk-container-id-1 div.sk-estimator:hover {background-color: #d4ebff;}#sk-container-id-1 div.sk-parallel-item::after {content: \"\";width: 100%;border-bottom: 1px solid gray;flex-grow: 1;}#sk-container-id-1 div.sk-label:hover label.sk-toggleable__label {background-color: #d4ebff;}#sk-container-id-1 div.sk-serial::before {content: \"\";position: absolute;border-left: 1px solid gray;box-sizing: border-box;top: 0;bottom: 0;left: 50%;z-index: 0;}#sk-container-id-1 div.sk-serial {display: flex;flex-direction: column;align-items: center;background-color: white;padding-right: 0.2em;padding-left: 0.2em;position: relative;}#sk-container-id-1 div.sk-item {position: relative;z-index: 1;}#sk-container-id-1 div.sk-parallel {display: flex;align-items: stretch;justify-content: center;background-color: white;position: relative;}#sk-container-id-1 div.sk-item::before, #sk-container-id-1 div.sk-parallel-item::before {content: \"\";position: absolute;border-left: 1px solid gray;box-sizing: border-box;top: 0;bottom: 0;left: 50%;z-index: -1;}#sk-container-id-1 div.sk-parallel-item {display: flex;flex-direction: column;z-index: 1;position: relative;background-color: white;}#sk-container-id-1 div.sk-parallel-item:first-child::after {align-self: flex-end;width: 50%;}#sk-container-id-1 div.sk-parallel-item:last-child::after {align-self: flex-start;width: 50%;}#sk-container-id-1 div.sk-parallel-item:only-child::after {width: 0;}#sk-container-id-1 div.sk-dashed-wrapped {border: 1px dashed gray;margin: 0 0.4em 0.5em 0.4em;box-sizing: border-box;padding-bottom: 0.4em;background-color: white;}#sk-container-id-1 div.sk-label label {font-family: monospace;font-weight: bold;display: inline-block;line-height: 1.2em;}#sk-container-id-1 div.sk-label-container {text-align: center;}#sk-container-id-1 div.sk-container {/* jupyter's `normalize.less` sets `[hidden] { display: none; }` but bootstrap.min.css set `[hidden] { display: none !important; }` so we also need the `!important` here to be able to override the default hidden behavior on the sphinx rendered scikit-learn.org. See: https://github.com/scikit-learn/scikit-learn/issues/21755 */display: inline-block !important;position: relative;}#sk-container-id-1 div.sk-text-repr-fallback {display: none;}</style><div id=\"sk-container-id-1\" class=\"sk-top-container\"><div class=\"sk-text-repr-fallback\"><pre>VotingClassifier(estimators=[(&#x27;lr&#x27;, LogisticRegression()),\n",
       "                             (&#x27;mnb&#x27;, MultinomialNB(alpha=0.02)),\n",
       "                             (&#x27;sgd&#x27;,\n",
       "                              SGDClassifier(loss=&#x27;modified_huber&#x27;,\n",
       "                                            max_iter=5000)),\n",
       "                             (&#x27;sgd2&#x27;,\n",
       "                              SGDClassifier(class_weight=&#x27;balanced&#x27;,\n",
       "                                            loss=&#x27;modified_huber&#x27;,\n",
       "                                            max_iter=8000, tol=0.0001)),\n",
       "                             (&#x27;sgd3&#x27;,\n",
       "                              SGDClassifier(early_stopping=True,\n",
       "                                            loss=&#x27;modified_huber&#x27;,\n",
       "                                            max_iter=10000, tol=0.0005))],\n",
       "                 voting=&#x27;soft&#x27;)</pre><b>In a Jupyter environment, please rerun this cell to show the HTML representation or trust the notebook. <br />On GitHub, the HTML representation is unable to render, please try loading this page with nbviewer.org.</b></div><div class=\"sk-container\" hidden><div class=\"sk-item sk-dashed-wrapped\"><div class=\"sk-label-container\"><div class=\"sk-label sk-toggleable\"><input class=\"sk-toggleable__control sk-hidden--visually\" id=\"sk-estimator-id-1\" type=\"checkbox\" ><label for=\"sk-estimator-id-1\" class=\"sk-toggleable__label sk-toggleable__label-arrow\">VotingClassifier</label><div class=\"sk-toggleable__content\"><pre>VotingClassifier(estimators=[(&#x27;lr&#x27;, LogisticRegression()),\n",
       "                             (&#x27;mnb&#x27;, MultinomialNB(alpha=0.02)),\n",
       "                             (&#x27;sgd&#x27;,\n",
       "                              SGDClassifier(loss=&#x27;modified_huber&#x27;,\n",
       "                                            max_iter=5000)),\n",
       "                             (&#x27;sgd2&#x27;,\n",
       "                              SGDClassifier(class_weight=&#x27;balanced&#x27;,\n",
       "                                            loss=&#x27;modified_huber&#x27;,\n",
       "                                            max_iter=8000, tol=0.0001)),\n",
       "                             (&#x27;sgd3&#x27;,\n",
       "                              SGDClassifier(early_stopping=True,\n",
       "                                            loss=&#x27;modified_huber&#x27;,\n",
       "                                            max_iter=10000, tol=0.0005))],\n",
       "                 voting=&#x27;soft&#x27;)</pre></div></div></div><div class=\"sk-parallel\"><div class=\"sk-parallel-item\"><div class=\"sk-item\"><div class=\"sk-label-container\"><div class=\"sk-label sk-toggleable\"><label>lr</label></div></div><div class=\"sk-serial\"><div class=\"sk-item\"><div class=\"sk-estimator sk-toggleable\"><input class=\"sk-toggleable__control sk-hidden--visually\" id=\"sk-estimator-id-2\" type=\"checkbox\" ><label for=\"sk-estimator-id-2\" class=\"sk-toggleable__label sk-toggleable__label-arrow\">LogisticRegression</label><div class=\"sk-toggleable__content\"><pre>LogisticRegression()</pre></div></div></div></div></div></div><div class=\"sk-parallel-item\"><div class=\"sk-item\"><div class=\"sk-label-container\"><div class=\"sk-label sk-toggleable\"><label>mnb</label></div></div><div class=\"sk-serial\"><div class=\"sk-item\"><div class=\"sk-estimator sk-toggleable\"><input class=\"sk-toggleable__control sk-hidden--visually\" id=\"sk-estimator-id-3\" type=\"checkbox\" ><label for=\"sk-estimator-id-3\" class=\"sk-toggleable__label sk-toggleable__label-arrow\">MultinomialNB</label><div class=\"sk-toggleable__content\"><pre>MultinomialNB(alpha=0.02)</pre></div></div></div></div></div></div><div class=\"sk-parallel-item\"><div class=\"sk-item\"><div class=\"sk-label-container\"><div class=\"sk-label sk-toggleable\"><label>sgd</label></div></div><div class=\"sk-serial\"><div class=\"sk-item\"><div class=\"sk-estimator sk-toggleable\"><input class=\"sk-toggleable__control sk-hidden--visually\" id=\"sk-estimator-id-4\" type=\"checkbox\" ><label for=\"sk-estimator-id-4\" class=\"sk-toggleable__label sk-toggleable__label-arrow\">SGDClassifier</label><div class=\"sk-toggleable__content\"><pre>SGDClassifier(loss=&#x27;modified_huber&#x27;, max_iter=5000)</pre></div></div></div></div></div></div><div class=\"sk-parallel-item\"><div class=\"sk-item\"><div class=\"sk-label-container\"><div class=\"sk-label sk-toggleable\"><label>sgd2</label></div></div><div class=\"sk-serial\"><div class=\"sk-item\"><div class=\"sk-estimator sk-toggleable\"><input class=\"sk-toggleable__control sk-hidden--visually\" id=\"sk-estimator-id-5\" type=\"checkbox\" ><label for=\"sk-estimator-id-5\" class=\"sk-toggleable__label sk-toggleable__label-arrow\">SGDClassifier</label><div class=\"sk-toggleable__content\"><pre>SGDClassifier(class_weight=&#x27;balanced&#x27;, loss=&#x27;modified_huber&#x27;, max_iter=8000,\n",
       "              tol=0.0001)</pre></div></div></div></div></div></div><div class=\"sk-parallel-item\"><div class=\"sk-item\"><div class=\"sk-label-container\"><div class=\"sk-label sk-toggleable\"><label>sgd3</label></div></div><div class=\"sk-serial\"><div class=\"sk-item\"><div class=\"sk-estimator sk-toggleable\"><input class=\"sk-toggleable__control sk-hidden--visually\" id=\"sk-estimator-id-6\" type=\"checkbox\" ><label for=\"sk-estimator-id-6\" class=\"sk-toggleable__label sk-toggleable__label-arrow\">SGDClassifier</label><div class=\"sk-toggleable__content\"><pre>SGDClassifier(early_stopping=True, loss=&#x27;modified_huber&#x27;, max_iter=10000,\n",
       "              tol=0.0005)</pre></div></div></div></div></div></div></div></div></div></div>"
      ],
      "text/plain": [
       "VotingClassifier(estimators=[('lr', LogisticRegression()),\n",
       "                             ('mnb', MultinomialNB(alpha=0.02)),\n",
       "                             ('sgd',\n",
       "                              SGDClassifier(loss='modified_huber',\n",
       "                                            max_iter=5000)),\n",
       "                             ('sgd2',\n",
       "                              SGDClassifier(class_weight='balanced',\n",
       "                                            loss='modified_huber',\n",
       "                                            max_iter=8000, tol=0.0001)),\n",
       "                             ('sgd3',\n",
       "                              SGDClassifier(early_stopping=True,\n",
       "                                            loss='modified_huber',\n",
       "                                            max_iter=10000, tol=0.0005))],\n",
       "                 voting='soft')"
      ]
     },
     "execution_count": 23,
     "metadata": {},
     "output_type": "execute_result"
    }
   ],
   "source": [
    "ensemble.fit(train_x, train.label)"
   ]
  },
  {
   "cell_type": "code",
   "execution_count": null,
   "metadata": {},
   "outputs": [],
   "source": [
    "test[\"generated\"] = ensemble.predict_proba(test_x)[:, 1]\n"
   ]
  },
  {
   "cell_type": "code",
   "execution_count": null,
   "metadata": {},
   "outputs": [],
   "source": [
    "#kaggleの提出用ファイルを作成\n",
    "test[[\"id\", \"generated\"]].to_csv(\"submission.csv\", index=False)\n"
   ]
  }
 ],
 "metadata": {
  "kernelspec": {
   "display_name": ".venv",
   "language": "python",
   "name": "python3"
  },
  "language_info": {
   "codemirror_mode": {
    "name": "ipython",
    "version": 3
   },
   "file_extension": ".py",
   "mimetype": "text/x-python",
   "name": "python",
   "nbconvert_exporter": "python",
   "pygments_lexer": "ipython3",
   "version": "3.11.6"
  }
 },
 "nbformat": 4,
 "nbformat_minor": 2
}
