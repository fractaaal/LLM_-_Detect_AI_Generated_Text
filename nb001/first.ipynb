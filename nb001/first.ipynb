{
 "cells": [
  {
   "cell_type": "code",
   "execution_count": 62,
   "metadata": {},
   "outputs": [],
   "source": [
    "import numpy as np\n",
    "import pandas as pd\n",
    "from sklearn.linear_model import LogisticRegression\n",
    "import xgboost as xgb\n",
    "from xgboost import XGBClassifier\n",
    "from sklearn.feature_extraction.text import TfidfVectorizer\n",
    "from sklearn.ensemble import VotingClassifier\n",
    "from sklearn.linear_model import SGDClassifier\n",
    "from sklearn.neighbors import KNeighborsClassifier\n",
    "import language_tool_python\n",
    "##  StratifiedKFold、cross_val_scoreをインポート\n",
    "from sklearn.model_selection import StratifiedKFold\n",
    "from sklearn.model_selection import cross_val_score\n"
   ]
  },
  {
   "cell_type": "code",
   "execution_count": 63,
   "metadata": {},
   "outputs": [
    {
     "name": "stdout",
     "output_type": "stream",
     "text": [
      "[\"Phones\\n\\nModern humans today are always on their phone. They are always on their phone more than 5 hours a day no stop .All they do is text back and forward and just have group Chats on social media. They even do it while driving. They are some really bad consequences when stuff happens when it comes to a phone. Some certain areas in the United States ban phones from class rooms just because of it.\\n\\nWhen people have phones, they know about certain apps that they have .Apps like Facebook Twitter Instagram and Snapchat. So like if a friend moves away and you want to be in contact you can still be in contact by posting videos or text messages. People always have different ways how to communicate with a phone. Phones have changed due to our generation.\\n\\nDriving is one of the way how to get around. People always be on their phones while doing it. Which can cause serious Problems. That's why there's a thing that's called no texting while driving. That's a really important thing to remember. Some people still do it because they think It's stupid. No matter what they do they still have to obey it because that's the only way how did he save.\\n\\nSometimes on the news there is either an accident or a suicide. It might involve someone not looking where they're going or tweet that someone sent. It either injury or death. If a mysterious number says I'm going to kill you and they know where you live but you don't know the person's contact ,It makes you puzzled and make you start to freak out. Which can end up really badly.\\n\\nPhones are fine to use and it's also the best way to come over help. If you go through a problem and you can't find help you ,always have a phone there with you. Even though phones are used almost every day as long as you're safe it would come into use if you get into trouble. Make sure you do not be like this phone while you're in the middle of driving. The news always updated when people do something stupid around that involves their phones. The safest way is the best way to stay safe.    \"\n",
      " \"This essay will explain if drivers should or should not be able to use electronic devices while operating a vehicle. Using a phone while driving can cause very bad wrecks, because they are putting themselves and other people at risk. People should not be able to use cell phones while operating a vehicle is because bad wrecks, putting others' lives in danger, and may cause death.\\n\\nFirst of all, wrecks can be caused by looking down at your phone while driving. Most importantly, you should always keep your eyes directly on the road when behind the wheel of a car. On that note, you will have an outrageously car payment just because you were looking down at your phone. Moreover, if you the reason the accident happened the person that was operating the other car can sue you for lots of money, and you will have to pay it. Therefore, if you don't pay whatever the person charges you consequences will be served and that's behind bars.\\n\\nAnother reason why we should not be able to use cell phones while operating an automobile is that you are putting other people's lives in danger. Thus, looking down at your cell phone you can get someone else hurt for the uncommunicative act you committed. As well as unconsciousness, injuries, or being in a hospital.\\n\\nThe main key to not texting and driving while behind the wheel of a car. Mainly, it can cause tragic, terrifying, and horrific things to you and to others and that's death. That's the most important thing to not using electronic devices while operating a vehicle. With the intension, of you not keeping your eyes and staying focus on the road you can easily turn off the road or hit another victim. Possibly another humankind could go away of all flesh because of your stupidity.\\n\\nMust be remembered, always stay focus on the road so you can get to your destination safely. So, you can't cause accidents, put other people lives in danger, and possibly death. Important to realize, do not use your phone while operating a vehicle. At least, wait till you make a safe stop or until you arrive at your destination.                                                                      \"\n",
      " \"Driving while the use of cellular devices\\n\\nToday, most of the society is thoughtless. Especially new drivers, all driver for that matter do not understand the dangers of looking at a cell phone while behind the wheel.\\n\\nThe automobile crashes due to distracted driving are increasing, teens have been the largest age group that was reported to being distracted by cellular usage. I do not agree with people using their cell phones and driving, humans should be smarter to know that if something is going on while they are driving that is so important then pulling off to the side of the road. The society doesn't understand that teens are the main cause for accidents I mean, in two thousand and five there was three hundred and one thousand injuries that were caused in distracted driving related accidents, that doesn't necessarily mean that the driver was texting or using a cellular device. New drivers do not understand that deaths are usually results of an accident. one out of every four car accidents is caused by texting and driving.   \"\n",
      " ...\n",
      " 'Dear Senator,\\n\\nI am writing to you today to express my strong support for abolishing the Electoral College and electing the President of the United States by popular vote.\\n\\nThe Electoral College is an outdated and undemocratic system that has been responsible for multiple instances of voter disenfranchisement. In 2000, for example, George W. Bush won the Presidency even though he lost the popular vote to Al Gore by nearly half a million votes. This was due to the fact that Bush won the majority of electoral votes, which are awarded to states based on their population.\\n\\nThis system is unfair to voters in states that are not considered \"swing states.\" Candidates know that they can win the Presidency by simply focusing their efforts on a handful of swing states, while ignoring the needs of voters in other states. This is bad for democracy, as it means that the President is not truly representing the will of the people.\\n\\nThere are a number of reasons why I believe that the Electoral College should be abolished. First, it is undemocratic. The President should not be elected by a small group of electors, but by the will of the people. Second, the Electoral College is unfair to voters in states that are not considered \"swing states.\" Third, the Electoral College is a relic of the past and is no longer necessary in the 21st century.\\n\\nI urge you to support a constitutional amendment that would abolish the Electoral College and elect the President by popular vote. This would be a major step forward for democracy in the United States.\\n\\nThank you for your time.\\n\\nSincerely,\\n[Your Name]'\n",
      " 'Dear Senator,\\n\\nI am writing to you today to express my strong support for abolishing the Electoral College and electing the President of the United States by popular vote.\\n\\nThe Electoral College is a system that was created in 1787 when the Constitution was ratified. At the time, it was seen as a way to balance the power of large and small states. However, the Electoral College is no longer necessary or relevant. In fact, it is a system that is unfair and undemocratic.\\n\\nUnder the Electoral College system, each state is assigned a number of electoral votes equal to the number of seats it has in the House of Representatives plus its two senators. This means that the votes of people in small states are worth more than the votes of people in large states. For example, a voter in Wyoming has three times as much voting power as a voter in California.\\n\\nThe Electoral College also gives disproportionate power to a handful of swing states. These are states where the race between the two major parties is close. Candidates only need to focus on winning the votes in these states, and they can ignore the votes of people in the rest of the country.\\n\\nThe Electoral College system is unfair, undemocratic, and unnecessary. It is time to abolish it and elect the President of the United States by popular vote.\\n\\nI urge you to support legislation that would abolish the Electoral College. Thank you for your time and consideration.\\n\\nSincerely,\\n[Your Name]'\n",
      " 'Dear Senator,\\n\\nI am writing to you today to express my strong support for abolishing the Electoral College and electing the president of the United States by popular vote. I believe that the Electoral College is an outdated and undemocratic system that does not reflect the will of the people.\\n\\nThe Electoral College was created in the late 18th century, and it was designed to give more power to the smaller states. At the time, the United States was a very different country, and the Electoral College may have made sense. However, the country has changed dramatically since then, and the Electoral College no longer serves any useful purpose.\\n\\nIn fact, the Electoral College is now a major obstacle to democracy. In recent elections, the candidate who has won the popular vote has lost the election. This is unfair to the millions of people who voted for the losing candidate. It also undermines faith in the democratic process.\\n\\nThere are many arguments in favor of abolishing the Electoral College. One argument is that it is undemocratic. The Electoral College gives more power to some voters than others. For example, a voter in Wyoming has much more power than a voter in California. This is because each state has the same number of electors in the Electoral College, regardless of its population.\\n\\nAnother argument against the Electoral College is that it is unfair. In recent elections, the candidate who has won the popular vote has lost the election. This is unfair to the millions of people who voted for the losing candidate. It also undermines faith in the democratic process.\\n\\nThere are also many practical arguments in favor of abolishing the Electoral College. One argument is that it is expensive. It costs millions of dollars to administer the Electoral College. This money could be better spent on other things, such as education or healthcare.\\n\\nAnother argument against the Electoral College is that it is inefficient. The Electoral College system is complex and confusing. It can take days or even weeks to determine the winner of the election. This is inefficient and frustrating for voters.\\n\\nIn conclusion, I believe that the Electoral College is an outdated and undemocratic system that should be abolished. I urge you to support a constitutional amendment that would elect the president of the United States by popular vote.\\n\\nThank you for your time.\\n\\nSincerely,\\n\\n[Your Name]']\n"
     ]
    }
   ],
   "source": [
    "test = pd.read_csv('../input/test_essays.csv')\n",
    "sub = pd.read_csv('../input/sample_submission.csv')\n",
    "org_train = pd.read_csv('../input/train_essays.csv')\n",
    "\n",
    "train = pd.read_csv(\"../input/train_v2_drcat_02.csv\", sep=',')\n",
    "\n",
    "train = train.drop_duplicates(subset=[\"text\"])\n",
    "\n",
    "train.reset_index(drop=True)\n",
    "x_train = train[\"text\"].values\n",
    "y_train = train[\"label\"].values\n",
    "\n",
    "print(x_train)\n",
    "\n"
   ]
  },
  {
   "cell_type": "code",
   "execution_count": 64,
   "metadata": {},
   "outputs": [
    {
     "name": "stdout",
     "output_type": "stream",
     "text": [
      "(44868, 77326)\n"
     ]
    }
   ],
   "source": [
    "from sklearn.feature_extraction.text import CountVectorizer\n",
    "\n",
    "count = CountVectorizer()\n",
    "docs = x_train\n",
    "\n",
    "bag = count.fit_transform(docs)\n",
    "print(bag.toarray().shape)\n"
   ]
  },
  {
   "cell_type": "code",
   "execution_count": 65,
   "metadata": {},
   "outputs": [],
   "source": [
    "from nltk.stem.porter import PorterStemmer\n",
    "\n",
    "porter = PorterStemmer()\n",
    "\n",
    "def tokenizer(text):\n",
    "    return text.split()\n",
    "\n",
    "\n",
    "def tokenizer_porter(text):\n",
    "    return [porter.stem(word) for word in text.split()]\n"
   ]
  },
  {
   "cell_type": "code",
   "execution_count": 66,
   "metadata": {},
   "outputs": [
    {
     "name": "stderr",
     "output_type": "stream",
     "text": [
      "[nltk_data] Downloading package stopwords to\n",
      "[nltk_data]     /Users/matsuisouta/nltk_data...\n",
      "[nltk_data]   Package stopwords is already up-to-date!\n"
     ]
    },
    {
     "data": {
      "text/plain": [
       "True"
      ]
     },
     "execution_count": 66,
     "metadata": {},
     "output_type": "execute_result"
    }
   ],
   "source": [
    "import nltk\n",
    "\n",
    "nltk.download('stopwords')\n"
   ]
  },
  {
   "cell_type": "code",
   "execution_count": 67,
   "metadata": {},
   "outputs": [],
   "source": [
    "from nltk.corpus import stopwords\n",
    "\n",
    "stop = stopwords.words('english')\n"
   ]
  },
  {
   "cell_type": "code",
   "execution_count": 68,
   "metadata": {},
   "outputs": [
    {
     "data": {
      "text/html": [
       "<style>#sk-container-id-2 {color: black;}#sk-container-id-2 pre{padding: 0;}#sk-container-id-2 div.sk-toggleable {background-color: white;}#sk-container-id-2 label.sk-toggleable__label {cursor: pointer;display: block;width: 100%;margin-bottom: 0;padding: 0.3em;box-sizing: border-box;text-align: center;}#sk-container-id-2 label.sk-toggleable__label-arrow:before {content: \"▸\";float: left;margin-right: 0.25em;color: #696969;}#sk-container-id-2 label.sk-toggleable__label-arrow:hover:before {color: black;}#sk-container-id-2 div.sk-estimator:hover label.sk-toggleable__label-arrow:before {color: black;}#sk-container-id-2 div.sk-toggleable__content {max-height: 0;max-width: 0;overflow: hidden;text-align: left;background-color: #f0f8ff;}#sk-container-id-2 div.sk-toggleable__content pre {margin: 0.2em;color: black;border-radius: 0.25em;background-color: #f0f8ff;}#sk-container-id-2 input.sk-toggleable__control:checked~div.sk-toggleable__content {max-height: 200px;max-width: 100%;overflow: auto;}#sk-container-id-2 input.sk-toggleable__control:checked~label.sk-toggleable__label-arrow:before {content: \"▾\";}#sk-container-id-2 div.sk-estimator input.sk-toggleable__control:checked~label.sk-toggleable__label {background-color: #d4ebff;}#sk-container-id-2 div.sk-label input.sk-toggleable__control:checked~label.sk-toggleable__label {background-color: #d4ebff;}#sk-container-id-2 input.sk-hidden--visually {border: 0;clip: rect(1px 1px 1px 1px);clip: rect(1px, 1px, 1px, 1px);height: 1px;margin: -1px;overflow: hidden;padding: 0;position: absolute;width: 1px;}#sk-container-id-2 div.sk-estimator {font-family: monospace;background-color: #f0f8ff;border: 1px dotted black;border-radius: 0.25em;box-sizing: border-box;margin-bottom: 0.5em;}#sk-container-id-2 div.sk-estimator:hover {background-color: #d4ebff;}#sk-container-id-2 div.sk-parallel-item::after {content: \"\";width: 100%;border-bottom: 1px solid gray;flex-grow: 1;}#sk-container-id-2 div.sk-label:hover label.sk-toggleable__label {background-color: #d4ebff;}#sk-container-id-2 div.sk-serial::before {content: \"\";position: absolute;border-left: 1px solid gray;box-sizing: border-box;top: 0;bottom: 0;left: 50%;z-index: 0;}#sk-container-id-2 div.sk-serial {display: flex;flex-direction: column;align-items: center;background-color: white;padding-right: 0.2em;padding-left: 0.2em;position: relative;}#sk-container-id-2 div.sk-item {position: relative;z-index: 1;}#sk-container-id-2 div.sk-parallel {display: flex;align-items: stretch;justify-content: center;background-color: white;position: relative;}#sk-container-id-2 div.sk-item::before, #sk-container-id-2 div.sk-parallel-item::before {content: \"\";position: absolute;border-left: 1px solid gray;box-sizing: border-box;top: 0;bottom: 0;left: 50%;z-index: -1;}#sk-container-id-2 div.sk-parallel-item {display: flex;flex-direction: column;z-index: 1;position: relative;background-color: white;}#sk-container-id-2 div.sk-parallel-item:first-child::after {align-self: flex-end;width: 50%;}#sk-container-id-2 div.sk-parallel-item:last-child::after {align-self: flex-start;width: 50%;}#sk-container-id-2 div.sk-parallel-item:only-child::after {width: 0;}#sk-container-id-2 div.sk-dashed-wrapped {border: 1px dashed gray;margin: 0 0.4em 0.5em 0.4em;box-sizing: border-box;padding-bottom: 0.4em;background-color: white;}#sk-container-id-2 div.sk-label label {font-family: monospace;font-weight: bold;display: inline-block;line-height: 1.2em;}#sk-container-id-2 div.sk-label-container {text-align: center;}#sk-container-id-2 div.sk-container {/* jupyter's `normalize.less` sets `[hidden] { display: none; }` but bootstrap.min.css set `[hidden] { display: none !important; }` so we also need the `!important` here to be able to override the default hidden behavior on the sphinx rendered scikit-learn.org. See: https://github.com/scikit-learn/scikit-learn/issues/21755 */display: inline-block !important;position: relative;}#sk-container-id-2 div.sk-text-repr-fallback {display: none;}</style><div id=\"sk-container-id-2\" class=\"sk-top-container\"><div class=\"sk-text-repr-fallback\"><pre>Pipeline(steps=[(&#x27;vect&#x27;, TfidfVectorizer(lowercase=False)),\n",
       "                (&#x27;clf&#x27;, LogisticRegression(random_state=0))])</pre><b>In a Jupyter environment, please rerun this cell to show the HTML representation or trust the notebook. <br />On GitHub, the HTML representation is unable to render, please try loading this page with nbviewer.org.</b></div><div class=\"sk-container\" hidden><div class=\"sk-item sk-dashed-wrapped\"><div class=\"sk-label-container\"><div class=\"sk-label sk-toggleable\"><input class=\"sk-toggleable__control sk-hidden--visually\" id=\"sk-estimator-id-4\" type=\"checkbox\" ><label for=\"sk-estimator-id-4\" class=\"sk-toggleable__label sk-toggleable__label-arrow\">Pipeline</label><div class=\"sk-toggleable__content\"><pre>Pipeline(steps=[(&#x27;vect&#x27;, TfidfVectorizer(lowercase=False)),\n",
       "                (&#x27;clf&#x27;, LogisticRegression(random_state=0))])</pre></div></div></div><div class=\"sk-serial\"><div class=\"sk-item\"><div class=\"sk-estimator sk-toggleable\"><input class=\"sk-toggleable__control sk-hidden--visually\" id=\"sk-estimator-id-5\" type=\"checkbox\" ><label for=\"sk-estimator-id-5\" class=\"sk-toggleable__label sk-toggleable__label-arrow\">TfidfVectorizer</label><div class=\"sk-toggleable__content\"><pre>TfidfVectorizer(lowercase=False)</pre></div></div></div><div class=\"sk-item\"><div class=\"sk-estimator sk-toggleable\"><input class=\"sk-toggleable__control sk-hidden--visually\" id=\"sk-estimator-id-6\" type=\"checkbox\" ><label for=\"sk-estimator-id-6\" class=\"sk-toggleable__label sk-toggleable__label-arrow\">LogisticRegression</label><div class=\"sk-toggleable__content\"><pre>LogisticRegression(random_state=0)</pre></div></div></div></div></div></div></div>"
      ],
      "text/plain": [
       "Pipeline(steps=[('vect', TfidfVectorizer(lowercase=False)),\n",
       "                ('clf', LogisticRegression(random_state=0))])"
      ]
     },
     "execution_count": 68,
     "metadata": {},
     "output_type": "execute_result"
    }
   ],
   "source": [
    "from sklearn.pipeline import Pipeline\n",
    "from sklearn.linear_model import LogisticRegression\n",
    "from sklearn.feature_extraction.text import TfidfVectorizer\n",
    "\n",
    "# TF-IDFベクトル化器を作成\n",
    "tfidf = TfidfVectorizer(strip_accents=None,\n",
    "                        lowercase=False,\n",
    "                        preprocessor=None)\n",
    "\n",
    "# ロジスティック回帰モデルの作成\n",
    "lr = LogisticRegression(penalty='l2', C=1.0, random_state=0)\n",
    "\n",
    "# パイプラインを作成\n",
    "lr_tfidf = Pipeline([('vect', tfidf),\n",
    "                     ('clf', lr)])\n",
    "\n",
    "# データを使ってモデルを訓練\n",
    "lr_tfidf.fit(x_train, y_train)\n"
   ]
  },
  {
   "cell_type": "code",
   "execution_count": 69,
   "metadata": {},
   "outputs": [
    {
     "name": "stdout",
     "output_type": "stream",
     "text": [
      "Fold 1: AUC = 0.9993\n",
      "Fold 2: AUC = 0.9989\n",
      "Fold 3: AUC = 0.9991\n",
      "Fold 4: AUC = 0.9992\n",
      "Fold 5: AUC = 0.9992\n"
     ]
    }
   ],
   "source": [
    "# 層化K分割交差検証を設定\n",
    "skf = StratifiedKFold(n_splits=5, shuffle=True, random_state=42)\n",
    "\n",
    "# データを使って交差検証を実行\n",
    "scores = cross_val_score(lr_tfidf, x_train, y_train, cv=skf, scoring='roc_auc')\n",
    "\n",
    "# 各フォールドでのAUCを表示\n",
    "for fold, score in enumerate(scores, start=1):\n",
    "    print(f'Fold {fold}: AUC = {score:.4f}')\n"
   ]
  },
  {
   "cell_type": "code",
   "execution_count": 70,
   "metadata": {},
   "outputs": [
    {
     "name": "stdout",
     "output_type": "stream",
     "text": [
      "Mean AUC = 0.9991\n"
     ]
    }
   ],
   "source": [
    "# AUCの平均値を表示\n",
    "print('Mean AUC = {:.4f}'.format(scores.mean()))\n"
   ]
  },
  {
   "cell_type": "code",
   "execution_count": 71,
   "metadata": {},
   "outputs": [
    {
     "name": "stdout",
     "output_type": "stream",
     "text": [
      "[[0.09592568 0.90407432]\n",
      " [0.09592568 0.90407432]\n",
      " [0.09592568 0.90407432]]\n"
     ]
    }
   ],
   "source": [
    "# テストデータを予測\n",
    "y_test = lr_tfidf.predict_proba(test['text'])\n",
    "print(y_test)\n"
   ]
  },
  {
   "cell_type": "code",
   "execution_count": 72,
   "metadata": {},
   "outputs": [
    {
     "name": "stdout",
     "output_type": "stream",
     "text": [
      "[0.00128612 0.04733991 0.04967885 0.01967201 0.01280526 0.00126446\n",
      " 0.0041796  0.00612767 0.00414179 0.01347454 0.00767354 0.1254411\n",
      " 0.00413933 0.00702183 0.00506423 0.08154811 0.00444207 0.0391298\n",
      " 0.00145596 0.00466394 0.0183595  0.20946305 0.00271278 0.03190676\n",
      " 0.00536021 0.0790171  0.01450786 0.00413084 0.03099834 0.00764798]\n"
     ]
    }
   ],
   "source": [
    "# org_trainのデータを予測\n",
    "y_org_train = lr_tfidf.predict_proba(org_train['text'])\n",
    "print(y_org_train[:30, 1])\n"
   ]
  },
  {
   "cell_type": "code",
   "execution_count": 73,
   "metadata": {},
   "outputs": [],
   "source": [
    "#kaggleの提出用ファイルを作成\n",
    "sub['generated'] = y_test[:, 1]\n",
    "sub.to_csv('submission.csv', index=False)\n"
   ]
  }
 ],
 "metadata": {
  "kernelspec": {
   "display_name": ".venv",
   "language": "python",
   "name": "python3"
  },
  "language_info": {
   "codemirror_mode": {
    "name": "ipython",
    "version": 3
   },
   "file_extension": ".py",
   "mimetype": "text/x-python",
   "name": "python",
   "nbconvert_exporter": "python",
   "pygments_lexer": "ipython3",
   "version": "3.11.6"
  }
 },
 "nbformat": 4,
 "nbformat_minor": 2
}
